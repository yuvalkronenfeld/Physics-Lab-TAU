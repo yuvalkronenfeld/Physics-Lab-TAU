{
  "nbformat": 4,
  "nbformat_minor": 0,
  "metadata": {
    "colab": {
      "provenance": [],
      "include_colab_link": true
    },
    "kernelspec": {
      "name": "python3",
      "display_name": "Python 3"
    },
    "language_info": {
      "name": "python"
    }
  },
  "cells": [
    {
      "cell_type": "markdown",
      "metadata": {
        "id": "view-in-github",
        "colab_type": "text"
      },
      "source": [
        "<a href=\"https://colab.research.google.com/github/yuvalkronenfeld/Physics-Lab-TAU/blob/FreeFall_Lab_Results/FreeFall_2032025_Parabolic.ipynb\" target=\"_parent\"><img src=\"https://colab.research.google.com/assets/colab-badge.svg\" alt=\"Open In Colab\"/></a>"
      ]
    },
    {
      "cell_type": "markdown",
      "source": [
        "<div dir=\"rtl\" lang=\"he\" xml:lang=\"he\">\n",
        "<font size=6> עיבוד נתונים - מעבדה א'</font>\n",
        "\n",
        "<font size=5> מחברת colab גנרית</font>\n",
        "\n",
        "---\n",
        "מחברת זו הינה template לעיבוד נתונים במסגרת הקורס מעבדה א'. מצורפים הסברים לכל מקטעי הקוד, ולינקים עם הרחבות למעוניינים. אנו מקווים שהיא תשמש אתכם נאמנה, ותקנה לכם כלים לעיבוד וניתוח נתונים מדעי, אולי גם מחוץ לכותלי הקורס.\n",
        "\n",
        "כמה הנחיות לשימוש:\n",
        "המחברת מחולקת למספר פרקים, רצוי להריץ את הבלוקים לפי הסדר (שכן לרוב הם מבוססים אחד על קודמיו). עליכם לשנות את הקוד אך ורק   במקומות המסומנים באמצעות הערה, כלומר ` comment #` .\n",
        "\n",
        "אנו זמינים לשאלות, ופתוחים להצעות לשיפור!\n",
        "\n",
        "בהצלחה רבה!\n",
        "\n",
        "צוות המעבדה\n",
        "\n",
        "---\n",
        "<h1>\n",
        "<font size=5><b>1. ייבוא חבילות</b></font>\n",
        "</h1>\n",
        "\n",
        "תחילה, נייבא מספר חבילות פייתון  (Python packages) בהן נשתמש בתהליך עיבוד הנתונים.\n",
        "\n",
        "החבילה Numpy משמשת בעיקר  לביצוע ביעילות פעולות על מערכים,\n",
        " ואילו SciPy, אשר מתבסס על NumPy, מציע פונקציונליות נוספת לאופטימיזציה, וכו'.\n",
        "החבילה Pandas חיונית לניתוח נתונים, מספקת מבני נתונים גמישים ושימושיים כמו DataFrames ומאפשרת ביצוע מניפולציות על הדאטא.\n",
        "\n",
        "---\n",
        "\n",
        "\n",
        "\n",
        "\n"
      ],
      "metadata": {
        "id": "n-i79zwYulbC"
      }
    },
    {
      "cell_type": "code",
      "source": [
        "import pandas as pd\n",
        "import numpy as np\n",
        "import matplotlib.pyplot as plt\n",
        "from scipy import stats\n",
        "from scipy.odr import Model, ODR, RealData"
      ],
      "metadata": {
        "id": "tL0s650If3lA"
      },
      "execution_count": 1,
      "outputs": []
    },
    {
      "cell_type": "markdown",
      "source": [
        "<div dir=\"rtl\" lang=\"he\" xml:lang=\"he\">\n",
        "\n",
        "---\n",
        "<h1>\n",
        "<font size=5><b>2. קריאת קבצי CSV</b></font>\n",
        "</h1>\n",
        "\n",
        " כדי לייבא את נתוני הניסוי מתוך קובץ הCSV למחברת זו, יש להמיר את הדאטא לייצוג קריא ונוח חישובית. במחברת זו נייצג את הנתונים בתור אובייקט  DataFrames. נדפיס כאן לפניכם את 5 השורות הראשונות.\n",
        "\n",
        " הערה: וודאו שאתם אכן מעלים את קובץ הנתונים שלכם לתיקיה הראשית (\"content/\"), ע\"י גרירת הקובץ למקום המתאים.\n",
        " כמו כן וודאו שהעמודות מכילות כותרות.\n",
        "\n",
        "---"
      ],
      "metadata": {
        "id": "SwbzesVCXEK-"
      }
    },
    {
      "cell_type": "code",
      "execution_count": 3,
      "metadata": {
        "id": "ASraNK9keSs_",
        "colab": {
          "base_uri": "https://localhost:8080/",
          "height": 226
        },
        "outputId": "d65a81bf-ff55-42b4-cc2c-97155a4d28c1"
      },
      "outputs": [
        {
          "output_type": "execute_result",
          "data": {
            "text/plain": [
              "   No.  h[cm]    Δh[cm]   t1[sec]   t2[sec]   t3[sec]   t4[sec]   t5[sec]  \\\n",
              "0    1     10  0.028868  0.125783  0.136249  0.129584  0.121984  0.131967   \n",
              "1    2     15  0.028868  0.161015  0.165458  0.166192  0.166473  0.168278   \n",
              "2    3     20  0.028868  0.188206  0.194132  0.184090  0.188869  0.188673   \n",
              "3    4     25  0.028868  0.206973  0.213467  0.211032  0.216787  0.209441   \n",
              "4    5     30  0.028868  0.228583  0.239918  0.241052  0.236869  0.232815   \n",
              "\n",
              "    t6[sec]   t7[sec]   t8[sec]   t9[sec]  t10[sec]  t_avg[sec]  Δt_stat[sec]  \\\n",
              "0  0.131931  0.128551  0.136843  0.135389  0.121635    0.129992      0.001754   \n",
              "1  0.171153  0.162446  0.167513  0.167800  0.155982    0.165231      0.001373   \n",
              "2  0.188183  0.192395  0.182996  0.188438  0.186569    0.188255      0.001055   \n",
              "3  0.216582  0.206991  0.214844  0.206370  0.221586    0.212407      0.001612   \n",
              "4  0.231944  0.235228  0.225894  0.228587  0.232926    0.233382      0.001570   \n",
              "\n",
              "   Δt_inst[sec]  Δt_fin[sec]   Δt/t %  t_avg^2[sec^2]  Δt_avg^2[sec^2]  \n",
              "0      0.000029     0.001754  1.34929        0.016898         0.000456  \n",
              "1      0.000029     0.001374  0.83137        0.027301         0.000454  \n",
              "2      0.000029     0.001055  0.56047        0.035440         0.000397  \n",
              "3      0.000029     0.001612  0.75913        0.045117         0.000685  \n",
              "4      0.000029     0.001570  0.67278        0.054467         0.000733  "
            ],
            "text/html": [
              "\n",
              "  <div id=\"df-100fbba2-b5dd-4fbf-90fa-c976c0505261\" class=\"colab-df-container\">\n",
              "    <div>\n",
              "<style scoped>\n",
              "    .dataframe tbody tr th:only-of-type {\n",
              "        vertical-align: middle;\n",
              "    }\n",
              "\n",
              "    .dataframe tbody tr th {\n",
              "        vertical-align: top;\n",
              "    }\n",
              "\n",
              "    .dataframe thead th {\n",
              "        text-align: right;\n",
              "    }\n",
              "</style>\n",
              "<table border=\"1\" class=\"dataframe\">\n",
              "  <thead>\n",
              "    <tr style=\"text-align: right;\">\n",
              "      <th></th>\n",
              "      <th>No.</th>\n",
              "      <th>h[cm]</th>\n",
              "      <th>Δh[cm]</th>\n",
              "      <th>t1[sec]</th>\n",
              "      <th>t2[sec]</th>\n",
              "      <th>t3[sec]</th>\n",
              "      <th>t4[sec]</th>\n",
              "      <th>t5[sec]</th>\n",
              "      <th>t6[sec]</th>\n",
              "      <th>t7[sec]</th>\n",
              "      <th>t8[sec]</th>\n",
              "      <th>t9[sec]</th>\n",
              "      <th>t10[sec]</th>\n",
              "      <th>t_avg[sec]</th>\n",
              "      <th>Δt_stat[sec]</th>\n",
              "      <th>Δt_inst[sec]</th>\n",
              "      <th>Δt_fin[sec]</th>\n",
              "      <th>Δt/t %</th>\n",
              "      <th>t_avg^2[sec^2]</th>\n",
              "      <th>Δt_avg^2[sec^2]</th>\n",
              "    </tr>\n",
              "  </thead>\n",
              "  <tbody>\n",
              "    <tr>\n",
              "      <th>0</th>\n",
              "      <td>1</td>\n",
              "      <td>10</td>\n",
              "      <td>0.028868</td>\n",
              "      <td>0.125783</td>\n",
              "      <td>0.136249</td>\n",
              "      <td>0.129584</td>\n",
              "      <td>0.121984</td>\n",
              "      <td>0.131967</td>\n",
              "      <td>0.131931</td>\n",
              "      <td>0.128551</td>\n",
              "      <td>0.136843</td>\n",
              "      <td>0.135389</td>\n",
              "      <td>0.121635</td>\n",
              "      <td>0.129992</td>\n",
              "      <td>0.001754</td>\n",
              "      <td>0.000029</td>\n",
              "      <td>0.001754</td>\n",
              "      <td>1.34929</td>\n",
              "      <td>0.016898</td>\n",
              "      <td>0.000456</td>\n",
              "    </tr>\n",
              "    <tr>\n",
              "      <th>1</th>\n",
              "      <td>2</td>\n",
              "      <td>15</td>\n",
              "      <td>0.028868</td>\n",
              "      <td>0.161015</td>\n",
              "      <td>0.165458</td>\n",
              "      <td>0.166192</td>\n",
              "      <td>0.166473</td>\n",
              "      <td>0.168278</td>\n",
              "      <td>0.171153</td>\n",
              "      <td>0.162446</td>\n",
              "      <td>0.167513</td>\n",
              "      <td>0.167800</td>\n",
              "      <td>0.155982</td>\n",
              "      <td>0.165231</td>\n",
              "      <td>0.001373</td>\n",
              "      <td>0.000029</td>\n",
              "      <td>0.001374</td>\n",
              "      <td>0.83137</td>\n",
              "      <td>0.027301</td>\n",
              "      <td>0.000454</td>\n",
              "    </tr>\n",
              "    <tr>\n",
              "      <th>2</th>\n",
              "      <td>3</td>\n",
              "      <td>20</td>\n",
              "      <td>0.028868</td>\n",
              "      <td>0.188206</td>\n",
              "      <td>0.194132</td>\n",
              "      <td>0.184090</td>\n",
              "      <td>0.188869</td>\n",
              "      <td>0.188673</td>\n",
              "      <td>0.188183</td>\n",
              "      <td>0.192395</td>\n",
              "      <td>0.182996</td>\n",
              "      <td>0.188438</td>\n",
              "      <td>0.186569</td>\n",
              "      <td>0.188255</td>\n",
              "      <td>0.001055</td>\n",
              "      <td>0.000029</td>\n",
              "      <td>0.001055</td>\n",
              "      <td>0.56047</td>\n",
              "      <td>0.035440</td>\n",
              "      <td>0.000397</td>\n",
              "    </tr>\n",
              "    <tr>\n",
              "      <th>3</th>\n",
              "      <td>4</td>\n",
              "      <td>25</td>\n",
              "      <td>0.028868</td>\n",
              "      <td>0.206973</td>\n",
              "      <td>0.213467</td>\n",
              "      <td>0.211032</td>\n",
              "      <td>0.216787</td>\n",
              "      <td>0.209441</td>\n",
              "      <td>0.216582</td>\n",
              "      <td>0.206991</td>\n",
              "      <td>0.214844</td>\n",
              "      <td>0.206370</td>\n",
              "      <td>0.221586</td>\n",
              "      <td>0.212407</td>\n",
              "      <td>0.001612</td>\n",
              "      <td>0.000029</td>\n",
              "      <td>0.001612</td>\n",
              "      <td>0.75913</td>\n",
              "      <td>0.045117</td>\n",
              "      <td>0.000685</td>\n",
              "    </tr>\n",
              "    <tr>\n",
              "      <th>4</th>\n",
              "      <td>5</td>\n",
              "      <td>30</td>\n",
              "      <td>0.028868</td>\n",
              "      <td>0.228583</td>\n",
              "      <td>0.239918</td>\n",
              "      <td>0.241052</td>\n",
              "      <td>0.236869</td>\n",
              "      <td>0.232815</td>\n",
              "      <td>0.231944</td>\n",
              "      <td>0.235228</td>\n",
              "      <td>0.225894</td>\n",
              "      <td>0.228587</td>\n",
              "      <td>0.232926</td>\n",
              "      <td>0.233382</td>\n",
              "      <td>0.001570</td>\n",
              "      <td>0.000029</td>\n",
              "      <td>0.001570</td>\n",
              "      <td>0.67278</td>\n",
              "      <td>0.054467</td>\n",
              "      <td>0.000733</td>\n",
              "    </tr>\n",
              "  </tbody>\n",
              "</table>\n",
              "</div>\n",
              "    <div class=\"colab-df-buttons\">\n",
              "\n",
              "  <div class=\"colab-df-container\">\n",
              "    <button class=\"colab-df-convert\" onclick=\"convertToInteractive('df-100fbba2-b5dd-4fbf-90fa-c976c0505261')\"\n",
              "            title=\"Convert this dataframe to an interactive table.\"\n",
              "            style=\"display:none;\">\n",
              "\n",
              "  <svg xmlns=\"http://www.w3.org/2000/svg\" height=\"24px\" viewBox=\"0 -960 960 960\">\n",
              "    <path d=\"M120-120v-720h720v720H120Zm60-500h600v-160H180v160Zm220 220h160v-160H400v160Zm0 220h160v-160H400v160ZM180-400h160v-160H180v160Zm440 0h160v-160H620v160ZM180-180h160v-160H180v160Zm440 0h160v-160H620v160Z\"/>\n",
              "  </svg>\n",
              "    </button>\n",
              "\n",
              "  <style>\n",
              "    .colab-df-container {\n",
              "      display:flex;\n",
              "      gap: 12px;\n",
              "    }\n",
              "\n",
              "    .colab-df-convert {\n",
              "      background-color: #E8F0FE;\n",
              "      border: none;\n",
              "      border-radius: 50%;\n",
              "      cursor: pointer;\n",
              "      display: none;\n",
              "      fill: #1967D2;\n",
              "      height: 32px;\n",
              "      padding: 0 0 0 0;\n",
              "      width: 32px;\n",
              "    }\n",
              "\n",
              "    .colab-df-convert:hover {\n",
              "      background-color: #E2EBFA;\n",
              "      box-shadow: 0px 1px 2px rgba(60, 64, 67, 0.3), 0px 1px 3px 1px rgba(60, 64, 67, 0.15);\n",
              "      fill: #174EA6;\n",
              "    }\n",
              "\n",
              "    .colab-df-buttons div {\n",
              "      margin-bottom: 4px;\n",
              "    }\n",
              "\n",
              "    [theme=dark] .colab-df-convert {\n",
              "      background-color: #3B4455;\n",
              "      fill: #D2E3FC;\n",
              "    }\n",
              "\n",
              "    [theme=dark] .colab-df-convert:hover {\n",
              "      background-color: #434B5C;\n",
              "      box-shadow: 0px 1px 3px 1px rgba(0, 0, 0, 0.15);\n",
              "      filter: drop-shadow(0px 1px 2px rgba(0, 0, 0, 0.3));\n",
              "      fill: #FFFFFF;\n",
              "    }\n",
              "  </style>\n",
              "\n",
              "    <script>\n",
              "      const buttonEl =\n",
              "        document.querySelector('#df-100fbba2-b5dd-4fbf-90fa-c976c0505261 button.colab-df-convert');\n",
              "      buttonEl.style.display =\n",
              "        google.colab.kernel.accessAllowed ? 'block' : 'none';\n",
              "\n",
              "      async function convertToInteractive(key) {\n",
              "        const element = document.querySelector('#df-100fbba2-b5dd-4fbf-90fa-c976c0505261');\n",
              "        const dataTable =\n",
              "          await google.colab.kernel.invokeFunction('convertToInteractive',\n",
              "                                                    [key], {});\n",
              "        if (!dataTable) return;\n",
              "\n",
              "        const docLinkHtml = 'Like what you see? Visit the ' +\n",
              "          '<a target=\"_blank\" href=https://colab.research.google.com/notebooks/data_table.ipynb>data table notebook</a>'\n",
              "          + ' to learn more about interactive tables.';\n",
              "        element.innerHTML = '';\n",
              "        dataTable['output_type'] = 'display_data';\n",
              "        await google.colab.output.renderOutput(dataTable, element);\n",
              "        const docLink = document.createElement('div');\n",
              "        docLink.innerHTML = docLinkHtml;\n",
              "        element.appendChild(docLink);\n",
              "      }\n",
              "    </script>\n",
              "  </div>\n",
              "\n",
              "\n",
              "<div id=\"df-76969fb1-1a35-44eb-b608-20acf4e795bf\">\n",
              "  <button class=\"colab-df-quickchart\" onclick=\"quickchart('df-76969fb1-1a35-44eb-b608-20acf4e795bf')\"\n",
              "            title=\"Suggest charts\"\n",
              "            style=\"display:none;\">\n",
              "\n",
              "<svg xmlns=\"http://www.w3.org/2000/svg\" height=\"24px\"viewBox=\"0 0 24 24\"\n",
              "     width=\"24px\">\n",
              "    <g>\n",
              "        <path d=\"M19 3H5c-1.1 0-2 .9-2 2v14c0 1.1.9 2 2 2h14c1.1 0 2-.9 2-2V5c0-1.1-.9-2-2-2zM9 17H7v-7h2v7zm4 0h-2V7h2v10zm4 0h-2v-4h2v4z\"/>\n",
              "    </g>\n",
              "</svg>\n",
              "  </button>\n",
              "\n",
              "<style>\n",
              "  .colab-df-quickchart {\n",
              "      --bg-color: #E8F0FE;\n",
              "      --fill-color: #1967D2;\n",
              "      --hover-bg-color: #E2EBFA;\n",
              "      --hover-fill-color: #174EA6;\n",
              "      --disabled-fill-color: #AAA;\n",
              "      --disabled-bg-color: #DDD;\n",
              "  }\n",
              "\n",
              "  [theme=dark] .colab-df-quickchart {\n",
              "      --bg-color: #3B4455;\n",
              "      --fill-color: #D2E3FC;\n",
              "      --hover-bg-color: #434B5C;\n",
              "      --hover-fill-color: #FFFFFF;\n",
              "      --disabled-bg-color: #3B4455;\n",
              "      --disabled-fill-color: #666;\n",
              "  }\n",
              "\n",
              "  .colab-df-quickchart {\n",
              "    background-color: var(--bg-color);\n",
              "    border: none;\n",
              "    border-radius: 50%;\n",
              "    cursor: pointer;\n",
              "    display: none;\n",
              "    fill: var(--fill-color);\n",
              "    height: 32px;\n",
              "    padding: 0;\n",
              "    width: 32px;\n",
              "  }\n",
              "\n",
              "  .colab-df-quickchart:hover {\n",
              "    background-color: var(--hover-bg-color);\n",
              "    box-shadow: 0 1px 2px rgba(60, 64, 67, 0.3), 0 1px 3px 1px rgba(60, 64, 67, 0.15);\n",
              "    fill: var(--button-hover-fill-color);\n",
              "  }\n",
              "\n",
              "  .colab-df-quickchart-complete:disabled,\n",
              "  .colab-df-quickchart-complete:disabled:hover {\n",
              "    background-color: var(--disabled-bg-color);\n",
              "    fill: var(--disabled-fill-color);\n",
              "    box-shadow: none;\n",
              "  }\n",
              "\n",
              "  .colab-df-spinner {\n",
              "    border: 2px solid var(--fill-color);\n",
              "    border-color: transparent;\n",
              "    border-bottom-color: var(--fill-color);\n",
              "    animation:\n",
              "      spin 1s steps(1) infinite;\n",
              "  }\n",
              "\n",
              "  @keyframes spin {\n",
              "    0% {\n",
              "      border-color: transparent;\n",
              "      border-bottom-color: var(--fill-color);\n",
              "      border-left-color: var(--fill-color);\n",
              "    }\n",
              "    20% {\n",
              "      border-color: transparent;\n",
              "      border-left-color: var(--fill-color);\n",
              "      border-top-color: var(--fill-color);\n",
              "    }\n",
              "    30% {\n",
              "      border-color: transparent;\n",
              "      border-left-color: var(--fill-color);\n",
              "      border-top-color: var(--fill-color);\n",
              "      border-right-color: var(--fill-color);\n",
              "    }\n",
              "    40% {\n",
              "      border-color: transparent;\n",
              "      border-right-color: var(--fill-color);\n",
              "      border-top-color: var(--fill-color);\n",
              "    }\n",
              "    60% {\n",
              "      border-color: transparent;\n",
              "      border-right-color: var(--fill-color);\n",
              "    }\n",
              "    80% {\n",
              "      border-color: transparent;\n",
              "      border-right-color: var(--fill-color);\n",
              "      border-bottom-color: var(--fill-color);\n",
              "    }\n",
              "    90% {\n",
              "      border-color: transparent;\n",
              "      border-bottom-color: var(--fill-color);\n",
              "    }\n",
              "  }\n",
              "</style>\n",
              "\n",
              "  <script>\n",
              "    async function quickchart(key) {\n",
              "      const quickchartButtonEl =\n",
              "        document.querySelector('#' + key + ' button');\n",
              "      quickchartButtonEl.disabled = true;  // To prevent multiple clicks.\n",
              "      quickchartButtonEl.classList.add('colab-df-spinner');\n",
              "      try {\n",
              "        const charts = await google.colab.kernel.invokeFunction(\n",
              "            'suggestCharts', [key], {});\n",
              "      } catch (error) {\n",
              "        console.error('Error during call to suggestCharts:', error);\n",
              "      }\n",
              "      quickchartButtonEl.classList.remove('colab-df-spinner');\n",
              "      quickchartButtonEl.classList.add('colab-df-quickchart-complete');\n",
              "    }\n",
              "    (() => {\n",
              "      let quickchartButtonEl =\n",
              "        document.querySelector('#df-76969fb1-1a35-44eb-b608-20acf4e795bf button');\n",
              "      quickchartButtonEl.style.display =\n",
              "        google.colab.kernel.accessAllowed ? 'block' : 'none';\n",
              "    })();\n",
              "  </script>\n",
              "</div>\n",
              "\n",
              "    </div>\n",
              "  </div>\n"
            ],
            "application/vnd.google.colaboratory.intrinsic+json": {
              "type": "dataframe",
              "summary": "{\n  \"name\": \"data[:5]\",\n  \"rows\": 5,\n  \"fields\": [\n    {\n      \"column\": \"No.\",\n      \"properties\": {\n        \"dtype\": \"number\",\n        \"std\": 1,\n        \"min\": 1,\n        \"max\": 5,\n        \"num_unique_values\": 5,\n        \"samples\": [\n          2,\n          5,\n          3\n        ],\n        \"semantic_type\": \"\",\n        \"description\": \"\"\n      }\n    },\n    {\n      \"column\": \"h[cm]\",\n      \"properties\": {\n        \"dtype\": \"number\",\n        \"std\": 7,\n        \"min\": 10,\n        \"max\": 30,\n        \"num_unique_values\": 5,\n        \"samples\": [\n          15,\n          30,\n          20\n        ],\n        \"semantic_type\": \"\",\n        \"description\": \"\"\n      }\n    },\n    {\n      \"column\": \"\\u0394h[cm]\",\n      \"properties\": {\n        \"dtype\": \"number\",\n        \"std\": 0.0,\n        \"min\": 0.0288675,\n        \"max\": 0.0288675,\n        \"num_unique_values\": 1,\n        \"samples\": [\n          0.0288675\n        ],\n        \"semantic_type\": \"\",\n        \"description\": \"\"\n      }\n    },\n    {\n      \"column\": \"t1[sec]\",\n      \"properties\": {\n        \"dtype\": \"number\",\n        \"std\": 0.04010236791013718,\n        \"min\": 0.125783,\n        \"max\": 0.228583,\n        \"num_unique_values\": 5,\n        \"samples\": [\n          0.161015\n        ],\n        \"semantic_type\": \"\",\n        \"description\": \"\"\n      }\n    },\n    {\n      \"column\": \"t2[sec]\",\n      \"properties\": {\n        \"dtype\": \"number\",\n        \"std\": 0.040468937368060454,\n        \"min\": 0.136249,\n        \"max\": 0.239918,\n        \"num_unique_values\": 5,\n        \"samples\": [\n          0.165458\n        ],\n        \"semantic_type\": \"\",\n        \"description\": \"\"\n      }\n    },\n    {\n      \"column\": \"t3[sec]\",\n      \"properties\": {\n        \"dtype\": \"number\",\n        \"std\": 0.04253038104696453,\n        \"min\": 0.129584,\n        \"max\": 0.241052,\n        \"num_unique_values\": 5,\n        \"samples\": [\n          0.166192\n        ],\n        \"semantic_type\": \"\",\n        \"description\": \"\"\n      }\n    },\n    {\n      \"column\": \"t4[sec]\",\n      \"properties\": {\n        \"dtype\": \"number\",\n        \"std\": 0.04478527886259055,\n        \"min\": 0.121984,\n        \"max\": 0.236869,\n        \"num_unique_values\": 5,\n        \"samples\": [\n          0.166473\n        ],\n        \"semantic_type\": \"\",\n        \"description\": \"\"\n      }\n    },\n    {\n      \"column\": \"t5[sec]\",\n      \"properties\": {\n        \"dtype\": \"number\",\n        \"std\": 0.038670493767212225,\n        \"min\": 0.131967,\n        \"max\": 0.232815,\n        \"num_unique_values\": 5,\n        \"samples\": [\n          0.168278\n        ],\n        \"semantic_type\": \"\",\n        \"description\": \"\"\n      }\n    },\n    {\n      \"column\": \"t6[sec]\",\n      \"properties\": {\n        \"dtype\": \"number\",\n        \"std\": 0.039292445040999935,\n        \"min\": 0.131931,\n        \"max\": 0.231944,\n        \"num_unique_values\": 5,\n        \"samples\": [\n          0.171153\n        ],\n        \"semantic_type\": \"\",\n        \"description\": \"\"\n      }\n    },\n    {\n      \"column\": \"t7[sec]\",\n      \"properties\": {\n        \"dtype\": \"number\",\n        \"std\": 0.041098174967995844,\n        \"min\": 0.128551,\n        \"max\": 0.235228,\n        \"num_unique_values\": 5,\n        \"samples\": [\n          0.162446\n        ],\n        \"semantic_type\": \"\",\n        \"description\": \"\"\n      }\n    },\n    {\n      \"column\": \"t8[sec]\",\n      \"properties\": {\n        \"dtype\": \"number\",\n        \"std\": 0.036020764102112,\n        \"min\": 0.136843,\n        \"max\": 0.225894,\n        \"num_unique_values\": 5,\n        \"samples\": [\n          0.167513\n        ],\n        \"semantic_type\": \"\",\n        \"description\": \"\"\n      }\n    },\n    {\n      \"column\": \"t9[sec]\",\n      \"properties\": {\n        \"dtype\": \"number\",\n        \"std\": 0.03579424822090834,\n        \"min\": 0.135389,\n        \"max\": 0.228587,\n        \"num_unique_values\": 5,\n        \"samples\": [\n          0.1678\n        ],\n        \"semantic_type\": \"\",\n        \"description\": \"\"\n      }\n    },\n    {\n      \"column\": \"t10[sec]\",\n      \"properties\": {\n        \"dtype\": \"number\",\n        \"std\": 0.04606279176624014,\n        \"min\": 0.121635,\n        \"max\": 0.232926,\n        \"num_unique_values\": 5,\n        \"samples\": [\n          0.155982\n        ],\n        \"semantic_type\": \"\",\n        \"description\": \"\"\n      }\n    },\n    {\n      \"column\": \"t_avg[sec]\",\n      \"properties\": {\n        \"dtype\": \"number\",\n        \"std\": 0.04035973130580777,\n        \"min\": 0.1299916,\n        \"max\": 0.2333816,\n        \"num_unique_values\": 5,\n        \"samples\": [\n          0.165231\n        ],\n        \"semantic_type\": \"\",\n        \"description\": \"\"\n      }\n    },\n    {\n      \"column\": \"\\u0394t_stat[sec]\",\n      \"properties\": {\n        \"dtype\": \"number\",\n        \"std\": 0.00027039480298870393,\n        \"min\": 0.001054717,\n        \"max\": 0.001753727,\n        \"num_unique_values\": 5,\n        \"samples\": [\n          0.001373374\n        ],\n        \"semantic_type\": \"\",\n        \"description\": \"\"\n      }\n    },\n    {\n      \"column\": \"\\u0394t_inst[sec]\",\n      \"properties\": {\n        \"dtype\": \"number\",\n        \"std\": 0.0,\n        \"min\": 2.88675e-05,\n        \"max\": 2.88675e-05,\n        \"num_unique_values\": 1,\n        \"samples\": [\n          2.88675e-05\n        ],\n        \"semantic_type\": \"\",\n        \"description\": \"\"\n      }\n    },\n    {\n      \"column\": \"\\u0394t_fin[sec]\",\n      \"properties\": {\n        \"dtype\": \"number\",\n        \"std\": 0.0002703332585902075,\n        \"min\": 0.00105511,\n        \"max\": 0.00175396,\n        \"num_unique_values\": 5,\n        \"samples\": [\n          0.00137368\n        ],\n        \"semantic_type\": \"\",\n        \"description\": \"\"\n      }\n    },\n    {\n      \"column\": \"\\u0394t/t %\",\n      \"properties\": {\n        \"dtype\": \"number\",\n        \"std\": 0.30493643554026145,\n        \"min\": 0.56047,\n        \"max\": 1.34929,\n        \"num_unique_values\": 5,\n        \"samples\": [\n          0.83137\n        ],\n        \"semantic_type\": \"\",\n        \"description\": \"\"\n      }\n    },\n    {\n      \"column\": \"t_avg^2[sec^2]\",\n      \"properties\": {\n        \"dtype\": \"number\",\n        \"std\": 0.0147045922243199,\n        \"min\": 0.016897816,\n        \"max\": 0.054466971,\n        \"num_unique_values\": 5,\n        \"samples\": [\n          0.027301283\n        ],\n        \"semantic_type\": \"\",\n        \"description\": \"\"\n      }\n    },\n    {\n      \"column\": \"\\u0394t_avg^2[sec^2]\",\n      \"properties\": {\n        \"dtype\": \"number\",\n        \"std\": 0.00015242786532094452,\n        \"min\": 0.00039726,\n        \"max\": 0.000732883,\n        \"num_unique_values\": 5,\n        \"samples\": [\n          0.000453948\n        ],\n        \"semantic_type\": \"\",\n        \"description\": \"\"\n      }\n    }\n  ]\n}"
            }
          },
          "metadata": {},
          "execution_count": 3
        }
      ],
      "source": [
        "file_path = r\"/content/FreeFall_Colab.xlsx\" # Replace with your file path: r\"/content/<your file name>.xlsx\"\n",
        "sheet_number = 0 # Replace with your sheet number (1st sheet = 0)\n",
        "data = pd.read_excel(file_path, sheet_name=sheet_number)\n",
        "data[:5]"
      ]
    },
    {
      "cell_type": "markdown",
      "source": [
        "<div dir=\"rtl\" lang=\"he\" xml:lang=\"he\">\n",
        "\n",
        "---\n",
        "<h1>\n",
        "<font size=5><b>3. בחירת x, $\\Delta$x, y, $\\Delta$y </b></font>\n",
        "</h1>\n",
        "\n",
        "כעת, נבחר את העמודות המתאימות מתוך הנתונים, לשם ביצוע ההתאמה. ניתן לבחור את העמודות לפי שם (השורה הראשונה בעמודה) או לחילופין לפי האינדקס של העמודה (0, 1, 2...). שוב, נדפיס את השורות הראשונות מתוך העמודות שנבחרו.\n",
        "\n",
        "---"
      ],
      "metadata": {
        "id": "PbZC2HzOO4qt"
      }
    },
    {
      "cell_type": "code",
      "source": [
        "def choose_columns(columns):\n",
        "    x = data.iloc[:,columns[0]]\n",
        "    delta_x = data.iloc[:,columns[1]]\n",
        "    y = data.iloc[:,columns[2]]\n",
        "    delta_y = data.iloc[:,columns[3]]\n",
        "    return x, delta_x, y, delta_y"
      ],
      "metadata": {
        "id": "ejCn5lquvbCb"
      },
      "execution_count": 4,
      "outputs": []
    },
    {
      "cell_type": "markdown",
      "source": [
        "<div dir=\"rtl\" lang=\"he\" xml:lang=\"he\">\n",
        "\n",
        "---\n",
        "<h1>\n",
        "<font size=5><b>4. התאמה לנתונים</b></font>\n",
        "</h1>\n",
        "\n",
        "נשתמש באלגוריתם ODR (או Orthogonal Distance Regression) לביצוע ההתאמה. אלגוריתם זה מתאים במקרה של תלות בין משתנים. בניגוד לבעיית המינימיזציה הסטנדרטית בשארים הפחותים, שם ההתחיסות הינה רק למרחק האנכי בין נקודות הדאטא וקו ההתאמה, ODR מבצע מינימיזציה ביחס למרחק האורתוגונלי, מה שמטייב את ההתאמה.\n",
        "מתודת ODR מתוך הספריה SciPy מצריך הגדרת פונקציית התאמה ומתן ניחושים התחלתיים לפרמטרים. ראו להלן מספר פונקציות התאמה שימושיות, לדוגמא.\n",
        "\n",
        "---"
      ],
      "metadata": {
        "id": "kRypfrJAPub8"
      }
    },
    {
      "cell_type": "code",
      "source": [
        "def function(A, x):\n",
        "    pass # Define your function. See some examples below.\n",
        "\n",
        "def linear(A, x):\n",
        "    return A[1] * x + A[0]\n",
        "\n",
        "def parabolic(A, x):\n",
        "    return A[2] * x**2 + A[1] * x + A[0]\n",
        "\n",
        "def optics(A, x):\n",
        "    return A[1] * x / (x - A[1]) + A[0]\n",
        "\n",
        "def exponential(A, x):\n",
        "    return A[2] * np.exp(A[1] * x) + A[0]\n",
        "\n",
        "def sinusoidal(A, x):\n",
        "    return A[3] * np.sin(A[1] * x + A[2]) + A[0]"
      ],
      "metadata": {
        "id": "kicH6R-Ahib8"
      },
      "execution_count": 5,
      "outputs": []
    },
    {
      "cell_type": "markdown",
      "source": [
        "<div dir=\"rtl\" lang=\"he\" xml:lang=\"he\">\n",
        " תוכלו להתנסות בבחירת פונקציות התאמה שונות וניחושים התחלתיים שונים:"
      ],
      "metadata": {
        "id": "lslrXFiORzyM"
      }
    },
    {
      "cell_type": "markdown",
      "source": [
        "<div dir=\"rtl\" lang=\"he\" xml:lang=\"he\">\n",
        " כעת, נבצע התאמה לנתונים לפי המודל הפונקציונלי הנבחר, באמצעות אלגוריתם ODR:"
      ],
      "metadata": {
        "id": "eR-iVSf1SA6v"
      }
    },
    {
      "cell_type": "code",
      "source": [
        "def odr_fit(fit_func, initial_guesses, x, delta_x, y, delta_y):\n",
        "    model = Model(fit_func)\n",
        "    odr_data = RealData(x, y, sx=delta_x, sy=delta_y)\n",
        "    odr = ODR(data=odr_data, model=model, beta0=initial_guesses)\n",
        "    output = odr.run()\n",
        "\n",
        "    fit_params = output.beta\n",
        "    fit_params_error = output.sd_beta\n",
        "    fit_cov = output.cov_beta\n",
        "    return fit_params, fit_params_error, fit_cov, output"
      ],
      "metadata": {
        "id": "sAc0ol7MSf-r"
      },
      "execution_count": 6,
      "outputs": []
    },
    {
      "cell_type": "markdown",
      "source": [
        "<div dir=\"rtl\" lang=\"he\" xml:lang=\"he\">\n",
        "\n",
        "ננתח את הפלט של אלגוריתם ODR:\n",
        "\n",
        "1. `fit_params`:\n",
        "\n",
        "הפרמטרים המשוערים של המודל. אלו הם הערכים האופטימליים של הפרמטרים, המתאימים ביותר לנתונים לפי אלגוריתם ODR. הפרמטרים ניתנים לפי אינדקס בסדר עולה: $a_0,a_1,a_2,...$\n",
        "2. `fit_params_error`:\n",
        "\n",
        "השגיאה של הפרמטרים המשוערים. ערכים אלו מצביעים על אי הוודאות או השונות באומדני הפרמטרים. שגיאות הפרמטרים ניתנות לפי אינדקס בסדר עולה: $\\Delta a_0,\\Delta a_1,\\Delta a_2,...$\n",
        "3. `fit_cov`:\n",
        "\n",
        "מטריצת השונות של הפרמטרים המשוערים. מטריצה ​​זו מספקת מידע על הקורלציה בין צמדי פרמטרים והשונות המשותפת שלהם:\n",
        "\n",
        "\\begin{bmatrix}\n",
        "\\text{Cov}(a_0, a_0) & \\text{Cov}(a_0, a_1) & \\text{Cov}(a_0, \\dots) \\\\\n",
        "\\text{Cov}(a_1, a_0) & \\text{Cov}(a_1, a_1) & \\text{Cov}(a_1, \\dots) \\\\\n",
        "\\text{Cov}(\\dots, a_0) & \\text{Cov}(\\dots, a_1) & \\text{Cov}(\\dots, \\dots)\n",
        "\\end{bmatrix}"
      ],
      "metadata": {
        "id": "lO8Ohfd2Sj-a"
      }
    },
    {
      "cell_type": "markdown",
      "source": [
        "<div dir=\"rtl\" lang=\"he\" xml:lang=\"he\">\n",
        "\n",
        "---\n",
        "<h1>\n",
        "<font size=5><b>5. חישוב השארים והמדדים הסטטיסטיים</b></font>\n",
        "</h1>\n",
        "\n",
        "נחשב את ערכי השארים (residuals) ואת $\\chi^2_{red}, p-value$, באופן מפורש.\n",
        "\n",
        "---"
      ],
      "metadata": {
        "id": "wFP5ei15BXDR"
      }
    },
    {
      "cell_type": "code",
      "source": [
        "def calc_stats(x, y, fit_params, output):\n",
        "    residuals = y - fit_func(fit_params, x)\n",
        "    degrees_of_freedom = len(x) - len(fit_params)\n",
        "    chi2 = output.sum_square\n",
        "    chi2_red = chi2/degrees_of_freedom\n",
        "    p_val = stats.chi2.sf(chi2, degrees_of_freedom)\n",
        "    return residuals, degrees_of_freedom, chi2_red, p_val"
      ],
      "metadata": {
        "id": "jtj85kmwxRYl"
      },
      "execution_count": 7,
      "outputs": []
    },
    {
      "cell_type": "markdown",
      "source": [
        "<div dir=\"rtl\" lang=\"he\" xml:lang=\"he\">\n",
        "\n",
        "נסביר את משמעות הערכים שהדפסנו:\n",
        "\n",
        "1. `residuals`:\n",
        "\n",
        "שארים מתארים את ההפרש בין ערכי הנתונים והערכים החזויים מהמודל. הם מציינים עד כמה המודל מתאים לכל נקודת נתונים בודדת. הפרשים קטנים מעידים על התאמה טובה, ולהיפך.\n",
        "\n",
        "2. `degrees_of_freedom`:\n",
        "\n",
        "דרגות חופש (DOF) בהקשר של מודל רגרסיה מתייחס למספר המדידות מהנתונים פחות מספר פרמטרי ההתאמה.\n",
        "\n",
        "3. `chi2_red`:\n",
        "\n",
        "חי בריבוע מצומצם ($\\chi^2_{red}$) הינו חי בריבוע חלקי מספר דרגות החופש. הוא מספק מדד למידת ההתאמה של המודל לנתונים, תוך התחשבות במספר הפרמטרים המוערכים. ערך קרוב ל-1 מצביע על התאמה טובה, בעוד שערכים גדולים או פחות מ-1 מצביעים על התאמה שאינה מיטבית.\n",
        "3. `p_val`:\n",
        "\n",
        "ערך ה-p נגזר מהתפלגות של חי בריבוע ומציין את ההסתברות לקבל ערך חי בריבוע\n",
        "הקטן בערכו מהערך שקיבלנו מההתאמה, ובמילים אחרות:\n",
        "$p[\\chi^2<\\chi^2_{fit}]$.\n",
        "\n",
        "ערך p בטווח >0.05 או < 0.95 מצביע על כך שהמודל מתאים היטב לנתונים, בעוד שערך p קיצוני, <0.05 או > 0.95 מצביע על כך שהמודל עשוי להיות לא מתאים.\n",
        "\n",
        "\n",
        "ערכים סטטיסטיים אלה יחד מספקים הערכה מקיפה של התאמת המודל הנבחר לנתונים, ומסייע לבחון את תקפות ההנחות השונות (ביחס לצורה הפונקציונלית של המודל, הערכת השגיאות, וכו...).\n",
        "    \n"
      ],
      "metadata": {
        "id": "2E3apqLkD_50"
      }
    },
    {
      "cell_type": "markdown",
      "source": [
        "<div dir=\"rtl\" lang=\"he\" xml:lang=\"he\">\n",
        "\n",
        "---\n",
        "<h1>\n",
        "<font size=5><b>6. הדפסת פרמטרי ההתאמה ושגיאותיהם, והמדדים הסטטיסטיים הרלוונטיים</b></font>\n",
        "</h1>\n",
        "\n",
        "---"
      ],
      "metadata": {
        "id": "QDpcQxX_DsbW"
      }
    },
    {
      "cell_type": "code",
      "source": [
        "def print_output(fit_params, fit_params_error, chi2_red, p_val, degrees_of_freedom):\n",
        "    for i in range(len(fit_params)):\n",
        "        print(f\"a[{i}]: {fit_params[i]} \\u00B1 {fit_params_error[i]} \")\n",
        "    print(f\"Chi Squared Reduced = {chi2_red:.5f} \")\n",
        "    print(f\"P-value = {p_val:.5e}\")\n",
        "    # print(f\"DOF = {degrees_of_freedom}\")"
      ],
      "metadata": {
        "id": "Y2cXsCV1eHwQ"
      },
      "execution_count": 8,
      "outputs": []
    },
    {
      "cell_type": "markdown",
      "source": [
        "<div dir=\"rtl\" lang=\"he\" xml:lang=\"he\">\n",
        "\n",
        "כעת, נבצע את כל תהליך ביצוע ההתאמה והחישובים הנלווים, בבת אחת, ע\"י קריאה לכל הפונקציות שראינו לעיל. ראשית נבחר את העמודות הרלוונטיות ונשרטט את הדאטא בלבד (אנא עשו בדיקת שפיות: האם זו התצורה שציפיתם לקבל?):"
      ],
      "metadata": {
        "id": "tfrMJ4I2oao4"
      }
    },
    {
      "cell_type": "code",
      "source": [
        "columns = [13, 16, 1, 2] # Define the columns indices to represent x, delta x, y, delta y.\n",
        "x, delta_x, y, delta_y = choose_columns(columns)\n",
        "\n",
        "plt.close('all')\n",
        "fig, ax = plt.subplots(1, 1, figsize=(6, 6))\n",
        "plt.style.use('classic')\n",
        "\n",
        "fig.patch.set_facecolor('white')\n",
        "ax.set_facecolor('white')\n",
        "\n",
        "ax.errorbar(x, y, xerr=delta_x, yerr=delta_y, fmt='.b', label='default label', ecolor='gray') # Change the label\n",
        "\n",
        "\n",
        "ax.set_title('Data - add here the full title')  # Add here the full title for the fit\n",
        "ax.set_xlabel('x-axis label') # Change x-axis label\n",
        "ax.set_ylabel('y-axis label') # Change y-axis label\n",
        "\n",
        "ax.grid(True)\n",
        "ax.legend()\n",
        "\n",
        "ax.ticklabel_format(style='plain', useOffset=False, axis='y')\n",
        "\n",
        "plt.tight_layout()\n",
        "plt.show()"
      ],
      "metadata": {
        "colab": {
          "base_uri": "https://localhost:8080/",
          "height": 600
        },
        "id": "MHRWWVgtDDrA",
        "outputId": "3a3de4d0-1770-49a6-c739-a17b835e2dea"
      },
      "execution_count": 9,
      "outputs": [
        {
          "output_type": "display_data",
          "data": {
            "text/plain": [
              "<Figure size 600x600 with 1 Axes>"
            ],
            "image/png": "[encoded data removed]"
          },
          "metadata": {}
        }
      ]
    },
    {
      "cell_type": "code",
      "source": [
        "fit_func = parabolic # Choose your fit function name\n",
        "initial_guesses = (0, 0,490.5) # Define the initial guesses for the parameters in list \"A\" (make sure they are the same length, and in the same order!)\n",
        "fit_params, fit_params_error, fit_cov, output = odr_fit(fit_func, initial_guesses, x, delta_x, y, delta_y)\n",
        "residuals, degrees_of_freedom, chi2_red, p_val = calc_stats(x, y, fit_params, output)\n",
        "print_output(fit_params, fit_params_error, chi2_red, p_val, degrees_of_freedom)"
      ],
      "metadata": {
        "colab": {
          "base_uri": "https://localhost:8080/"
        },
        "id": "LdInPaImlOAL",
        "outputId": "6521008e-b611-48f9-8b14-3900834299c7"
      },
      "execution_count": 12,
      "outputs": [
        {
          "output_type": "stream",
          "name": "stdout",
          "text": [
            "a[0]: -0.4011726521917003 ± 1.6246489780870526 \n",
            "a[1]: 15.998736198527407 ± 13.931722625578432 \n",
            "a[2]: 484.9172759529558 ± 27.27759726347855 \n",
            "Chi Squared Reduced = 2.52755 \n",
            "P-value = 2.48943e-03\n"
          ]
        }
      ]
    },
    {
      "cell_type": "markdown",
      "source": [
        "<div dir=\"rtl\" lang=\"he\" xml:lang=\"he\">\n",
        "<font size=5 color=\"red\"> אופציונאלי:</font>\n",
        "נדפיס את הפלט הסטנדרטי המלא, לקבלת מידע מלא יותר על תהליך ביצוע ההתאמה (לפירוט, ראו את הדוקומנטציה)."
      ],
      "metadata": {
        "id": "XP99GHwU_-l_"
      }
    },
    {
      "cell_type": "markdown",
      "source": [
        "[דוקומנטציה](https://docs.scipy.org/doc/scipy/reference/generated/scipy.odr.Output.html)"
      ],
      "metadata": {
        "id": "TuM9MvGcPs9z"
      }
    },
    {
      "cell_type": "code",
      "source": [
        "output.pprint()"
      ],
      "metadata": {
        "colab": {
          "base_uri": "https://localhost:8080/"
        },
        "id": "JTHFlMxNTg3F",
        "outputId": "3ade8c47-92d5-49df-de39-74de4aebcd84"
      },
      "execution_count": null,
      "outputs": [
        {
          "output_type": "stream",
          "name": "stdout",
          "text": [
            "Beta: [1.00077550e+02 9.82979502e-02]\n",
            "Beta Std Error: [0.02042793 0.00067137]\n",
            "Beta Covariance: [[ 6.96973830e-04 -2.01966216e-05]\n",
            " [-2.01966216e-05  7.52823351e-07]]\n",
            "Residual Variance: 0.5987316688462394\n",
            "Inverse Condition #: 0.01529276846750804\n",
            "Reason(s) for Halting:\n",
            "  Sum of squares convergence\n"
          ]
        }
      ]
    },
    {
      "cell_type": "markdown",
      "source": [
        "<div dir=\"rtl\" lang=\"he\" xml:lang=\"he\">\n",
        "\n",
        "---\n",
        "<h1>\n",
        "<font size=5><b>7. שרטוט גרף הנתונים, פונקציית ההתאמה, וגרף השארים</b></font>\n",
        "</h1>\n",
        "\n",
        "נשרטט את ערכי הנתונים ושגיאותיהם (שימו לב שגם השגיאה בציר x משורטטת באיור זה, אם כי בשל מימדיה הקטנים היא לא נראית בבירור בגרף), ואת פונקציית ההתאמה שחישבנו ביחס אליהם, באיור השמאלי, ואילו את גרף השארים באיור הימני. תוכלו לשנות ולהתאים את פסקת הקוד הבאה לצרכיכם ולטעמכם, וכן להוסיף עוד עקומות במידת הנדרש. שימו לב שעליכם לערוך את הכותרות הראשיות לגרפים, כותרות הצירים, ולהוסיף יחידות.\n",
        "\n",
        "---"
      ],
      "metadata": {
        "id": "nK3M_I8YCn3e"
      }
    },
    {
      "cell_type": "code",
      "source": [
        "plt.close('all')\n",
        "fig, axs = plt.subplots(1, 2, figsize=(15, 6))\n",
        "plt.style.use('classic')\n",
        "\n",
        "fig.patch.set_facecolor('white')\n",
        "for ax in axs:\n",
        "    ax.set_facecolor('white')\n",
        "\n",
        "x_fit = np.linspace(min(x), max(x), 10*len(x))\n",
        "y_fit = fit_func(fit_params, x_fit)\n",
        "axs[0].errorbar(x, y, xerr=delta_x, yerr=delta_y, fmt='.b', label='default label', ecolor='gray') # Change the label\n",
        "axs[0].plot(x_fit, y_fit, label='default label', c='r', alpha=0.5) # Change the label\n",
        "\n",
        "# If you want to plot multiple functions, change here the relevant parameters (x, y, xerr, yerr, label). Otherwise, uncomment the 2 next lines:\n",
        "#axs[0].errorbar(x + 0.2, y + 0.3, xerr=delta_x, yerr=delta_y, fmt='.g', label='Data', ecolor='gray')\n",
        "#axs[0].plot(x_fit + 0.2, y_fit + 0.3, label='Fit', c='k', alpha=0.5)\n",
        "\n",
        "axs[0].set_title('Fit - H in cm as a function of 1/d squared in cm^-2')  # Add here the full title for the fit\n",
        "axs[0].set_xlabel('x-axis label') # Change x-axis label if needed\n",
        "axs[0].set_ylabel('y-axis label') # Change y-axis label if needed\n",
        "\n",
        "axs[0].grid(True)\n",
        "axs[0].legend()\n",
        "\n",
        "axs[1].errorbar(x, residuals, xerr=delta_x, yerr=delta_y, fmt='.b', label=\"Data\", ecolor='gray')\n",
        "axs[1].hlines(0, min(x), max(x), colors='r', linestyles='dashed')\n",
        "\n",
        "axs[1].set_title('Residuals') # Add here the full title for the residuals\n",
        "axs[1].set_xlabel('x-axis label') # Change column names\n",
        "axs[1].set_ylabel('y-axis label') # Change column names if needed\n",
        "\n",
        "axs[1].grid(True)\n",
        "axs[1].legend()\n",
        "\n",
        "for ax in axs:\n",
        "    ax.get_yaxis().get_major_formatter().set_useOffset(False)\n",
        "\n",
        "\n",
        "plt.tight_layout()\n",
        "plt.show()"
      ],
      "metadata": {
        "id": "yEine9uBgTr1",
        "colab": {
          "base_uri": "https://localhost:8080/",
          "height": 445
        },
        "outputId": "de118174-fc0c-4f9a-e236-c089a7c020b9"
      },
      "execution_count": 11,
      "outputs": [
        {
          "output_type": "display_data",
          "data": {
            "text/plain": [
              "<Figure size 1200x480 with 2 Axes>"
            ],
            "image/png": "[encoded data removed]"
          },
          "metadata": {}
        }
      ]
    }
  ]
}